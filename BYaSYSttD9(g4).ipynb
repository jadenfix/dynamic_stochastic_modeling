{
 "cells": [
  {
   "cell_type": "markdown",
   "metadata": {},
   "source": [
    "# HW 8\n",
    "### Bond yields and Sell Your Soul to the Devil\n",
    "\n",
    "## Question 1\n",
    "\n",
    "Tyler, Jaden, Matthew, Marco"
   ]
  },
  {
   "cell_type": "code",
   "execution_count": 1,
   "metadata": {},
   "outputs": [],
   "source": [
    "import datetime\n",
    "import numpy as np\n",
    "import pandas as pd\n",
    "import matplotlib.pyplot as plt\n",
    "\n",
    "# For data from FRED\n",
    "from fredapi import Fred\n",
    "import pandas_datareader.data as pdr\n",
    "\n",
    "# For Markov chain / stats\n",
    "import statsmodels.api as sm\n",
    "\n",
    "# For solving equations (certainty equivalent)\n",
    "from scipy.optimize import fsolve"
   ]
  },
  {
   "cell_type": "markdown",
   "metadata": {},
   "source": [
    "### Part 1: Plot a histogram with 20 bins, and save the output. "
   ]
  },
  {
   "cell_type": "code",
   "execution_count": 2,
   "metadata": {},
   "outputs": [
    {
     "name": "stdout",
     "output_type": "stream",
     "text": [
      "Recent WEI observations:\n",
      "             WEI\n",
      "DATE            \n",
      "2025-02-01  2.38\n",
      "2025-02-08  2.53\n",
      "2025-02-15  2.50\n",
      "2025-02-22  2.43\n",
      "2025-03-01  2.24\n"
     ]
    }
   ],
   "source": [
    "fred = Fred(api_key='6c0ecd6565503b64631fd2b36f71293a')\n",
    "fred = Fred(api_key='YOUR_FRED_API_KEY_HERE')  # <-- Replace with your actual key\n",
    "start = datetime.datetime(2000, 1, 1)\n",
    "end = datetime.datetime.today()\n",
    "wei_data = pdr.DataReader(\"WEI\", \"fred\", start, end)\n",
    "\n",
    "print(\"Recent WEI observations:\")\n",
    "print(wei_data.tail())"
   ]
  },
  {
   "cell_type": "markdown",
   "metadata": {},
   "source": [
    "### Part 2:  \n",
    "i. Group the data by mean growth rates within each bin.  \n",
    "ii. Estimate the Markov matrix describing the transitions between states.  "
   ]
  },
  {
   "cell_type": "code",
   "execution_count": 3,
   "metadata": {},
   "outputs": [
    {
     "data": {
      "image/png": "[encoded data removed]",
      "text/plain": [
       "<Figure size 600x400 with 1 Axes>"
      ]
     },
     "metadata": {},
     "output_type": "display_data"
    },
    {
     "name": "stdout",
     "output_type": "stream",
     "text": [
      "Histogram bin counts: [  6.   3.   2.   3.   8.  34.  16.  16.  18.  61. 292. 305.  55.  29.\n",
      "  13.  16.   5.   5.   1.   8.]\n",
      "Histogram bin edges: [-8.12  -7.186 -6.252 -5.318 -4.384 -3.45  -2.516 -1.582 -0.648  0.286\n",
      "  1.22   2.154  3.088  4.022  4.956  5.89   6.824  7.758  8.692  9.626\n",
      " 10.56 ]\n"
     ]
    }
   ],
   "source": [
    "plt.figure(figsize=(6,4))\n",
    "counts, bins, patches = plt.hist(\n",
    "    wei_data['WEI'].dropna(), bins=20, edgecolor='black'\n",
    ")\n",
    "plt.title('Histogram of Weekly Economic Index (WEI)')\n",
    "plt.xlabel('WEI')\n",
    "plt.ylabel('Frequency')\n",
    "plt.grid(False)\n",
    "plt.show()\n",
    "\n",
    "print(\"Histogram bin counts:\", counts)\n",
    "print(\"Histogram bin edges:\", bins)"
   ]
  },
  {
   "cell_type": "code",
   "execution_count": 4,
   "metadata": {},
   "outputs": [
    {
     "name": "stdout",
     "output_type": "stream",
     "text": [
      "\n",
      "Estimated 3x3 Markov transition matrix (rows sum to 1):\n",
      "NextState       0.0       1.0       2.0\n",
      "State                                  \n",
      "0          0.841216  0.152027  0.006757\n",
      "1          0.149007  0.682119  0.168874\n",
      "2          0.006734  0.171717  0.821549\n"
     ]
    }
   ],
   "source": [
    "q33, q67 = wei_data['WEI'].quantile([0.33, 0.67])\n",
    "\n",
    "def classify_wei(x):\n",
    "    if x < q33:\n",
    "        return 0  # Low\n",
    "    elif x < q67:\n",
    "        return 1  # Medium\n",
    "    else:\n",
    "        return 2  # High\n",
    "\n",
    "wei_data['State'] = wei_data['WEI'].apply(classify_wei)\n",
    "\n",
    "# Shift by 1 to see transitions from state_t to state_{t+1}\n",
    "wei_data['NextState'] = wei_data['State'].shift(-1)\n",
    "\n",
    "# Drop last row (no NextState)\n",
    "wei_data_markov = wei_data.dropna(subset=['NextState'])\n",
    "\n",
    "# Transition counts\n",
    "transition_counts = pd.crosstab(wei_data_markov['State'], wei_data_markov['NextState'])\n",
    "# Convert to row probabilities\n",
    "transition_matrix = transition_counts.div(transition_counts.sum(axis=1), axis=0)\n",
    "\n",
    "print(\"\\nEstimated 3x3 Markov transition matrix (rows sum to 1):\")\n",
    "print(transition_matrix)"
   ]
  },
  {
   "cell_type": "code",
   "execution_count": 6,
   "metadata": {},
   "outputs": [
    {
     "data": {
      "text/plain": [
       "array([[0.84121622, 0.15202703, 0.00675676],\n",
       "       [0.14900662, 0.68211921, 0.16887417],\n",
       "       [0.00673401, 0.17171717, 0.82154882]])"
      ]
     },
     "execution_count": 6,
     "metadata": {},
     "output_type": "execute_result"
    }
   ],
   "source": [
    "# Prepare data\n",
    "wei_data_markov = wei_data_markov.copy()\n",
    "wei_data_markov['Growth'] = wei_data_markov['WEI'] / 100.0  # naive example\n",
    "\n",
    "beta_weekly = 0.97**(1/52)\n",
    "gamma = 2\n",
    "\n",
    "# Average growth by state\n",
    "state_means = wei_data_markov.groupby('State')['Growth'].mean()\n",
    "\n",
    "# State-dependent single-step SDF:\n",
    "#   m_i = beta_weekly * (1 + growth_i)^(-gamma)\n",
    "sdf_by_state = {}\n",
    "for s in state_means.index:\n",
    "    g_s = state_means[s]\n",
    "    sdf_by_state[s] = beta_weekly * (1 + g_s)**(-gamma)\n",
    "\n",
    "# Sort states in ascending order (0,1,2) for consistency\n",
    "states_sorted = sorted(sdf_by_state.keys())\n",
    "sdf_vector = np.array([sdf_by_state[s] for s in states_sorted])\n",
    "\n",
    "# Convert transition_matrix (DataFrame) to NumPy\n",
    "M = transition_matrix.to_numpy()\n",
    "M\n"
   ]
  },
  {
   "cell_type": "markdown",
   "metadata": {},
   "source": [
    "### Part : Markov chain-based bond yields\n",
    "iii. Use that Markov matrix to estimate the gross yields on one-year and thirty-year bonds for each state.\n",
    "\n",
    "$$m_{t+1} \\;=\\; \\beta^{1/52} \\,\\left(\\frac{C_{t+1}}{C_t}\\right)^{-\\gamma}$$\n",
    "\n",
    "Here, $\\beta^{1/52}\\approx 0.97^{1/52}.$"
   ]
  },
  {
   "cell_type": "code",
   "execution_count": 7,
   "metadata": {},
   "outputs": [
    {
     "name": "stdout",
     "output_type": "stream",
     "text": [
      "\n",
      "Bond Prices and Yields by State:\n",
      "\n",
      "State 0:\n",
      "  1-year bond price = 0.208454, yield = 379.7224%\n",
      "  30-year bond price = 0.000000, yield = 471.6965%\n",
      "\n",
      "State 1:\n",
      "  1-year bond price = 0.164830, yield = 506.6839%\n",
      "  30-year bond price = 0.000000, yield = 476.1887%\n",
      "\n",
      "State 2:\n",
      "  1-year bond price = 0.135478, yield = 638.1256%\n",
      "  30-year bond price = 0.000000, yield = 479.9677%\n",
      "\n"
     ]
    },
    {
     "data": {
      "image/png": "[encoded data removed]",
      "text/plain": [
       "<Figure size 800x400 with 1 Axes>"
      ]
     },
     "metadata": {},
     "output_type": "display_data"
    }
   ],
   "source": [
    "def bond_price(M, sdf, T):\n",
    "    \"\"\"\n",
    "    Computes the price of a zero-coupon bond paying 1 at time T,\n",
    "    using a Markov chain with state-dependent SDFs.\n",
    "    M: Markov transition matrix (n x n)\n",
    "    sdf: vector of state-dependent pricing kernels (n,)\n",
    "    T: horizon in discrete steps (weeks, here)\n",
    "    \"\"\"\n",
    "    n = len(sdf)\n",
    "    # At maturity, payoff = 1 in each state\n",
    "    P = np.ones(n)\n",
    "    # Work backwards T times\n",
    "    for _ in range(T):\n",
    "        P = sdf * (M @ P)\n",
    "    return P\n",
    "\n",
    "# --- Price 1-year bond (52 weeks)\n",
    "T_1yr = 52\n",
    "price_1yr = bond_price(M, sdf_vector, T_1yr)\n",
    "\n",
    "# --- Price 30-year bond (52*30 = 1560 weeks)\n",
    "T_30yr = 52 * 30\n",
    "price_30yr = bond_price(M, sdf_vector, T_30yr)\n",
    "\n",
    "print(\"\\nBond Prices and Yields by State:\\n\")\n",
    "for i, s in enumerate(states_sorted):\n",
    "    p1 = price_1yr[i]\n",
    "    p30 = price_30yr[i]\n",
    "    # Gross yields = 1/p\n",
    "    gross_yield_1yr = 1.0 / p1\n",
    "    gross_yield_30yr = 1.0 / p30\n",
    "    # Annualized yield in %: (gross_yield - 1)*100\n",
    "    # Because these are 1-year or 30-year instruments already annualized.\n",
    "    # (If you prefer yield to maturity, it's effectively gross_yield - 1, but here we keep it simple.)\n",
    "    ann_yield_1yr = (gross_yield_1yr - 1)*100\n",
    "    # For 30-year, you might prefer to do the 30th-root to get an annual yield to maturity, i.e.:\n",
    "    #   annual_factor = gross_yield_30yr ** (1/30)\n",
    "    #   annual_yield_30yr = (annual_factor - 1)*100\n",
    "    #\n",
    "    # Below we do the correct 30-year yield to maturity:\n",
    "    annual_factor_30 = gross_yield_30yr ** (1/30)\n",
    "    annual_yield_30yr = (annual_factor_30 - 1)*100\n",
    "    \n",
    "    print(f\"State {s}:\")\n",
    "    print(f\"  1-year bond price = {p1:.6f}, yield = {ann_yield_1yr:.4f}%\")\n",
    "    print(f\"  30-year bond price = {p30:.6f}, yield = {annual_yield_30yr:.4f}%\")\n",
    "    print(\"\")\n",
    "\n",
    "# Optional: plot SDF and 1-year bond prices\n",
    "plt.figure(figsize=(8,4))\n",
    "plt.bar(np.arange(len(sdf_vector)) - 0.15, sdf_vector, width=0.3, label='Weekly SDF')\n",
    "plt.bar(np.arange(len(price_1yr)) + 0.15, price_1yr, width=0.3, label='1-Year Bond Price')\n",
    "plt.xticks(np.arange(len(sdf_vector)), [f\"State {s}\" for s in states_sorted])\n",
    "plt.xlabel(\"State\")\n",
    "plt.title(\"State-Dependent SDF and 1-Year Bond Prices\")\n",
    "plt.legend()\n",
    "plt.show()"
   ]
  },
  {
   "cell_type": "markdown",
   "metadata": {},
   "source": [
    "# Question 2. Von Neumann–Morgenstern Utility\n",
    "## Part 1: Plotting utility function\n"
   ]
  },
  {
   "cell_type": "code",
   "execution_count": 8,
   "metadata": {},
   "outputs": [
    {
     "data": {
      "image/png": "[encoded data removed]",
      "text/plain": [
       "<Figure size 600x400 with 1 Axes>"
      ]
     },
     "metadata": {},
     "output_type": "display_data"
    }
   ],
   "source": [
    "import numpy as np\n",
    "import matplotlib.pyplot as plt\n",
    "\n",
    "# 2a. Define utility\n",
    "def u(w, gamma=1/1000):\n",
    "    \"\"\"\n",
    "    Von Neumann–Morgenstern utility:\n",
    "        u(w) = (1 - e^(-gamma*w)) / gamma\n",
    "    \"\"\"\n",
    "    return (1 - np.exp(-gamma*w)) / gamma\n",
    "\n",
    "# 2b. Plot utility function from 0 to 100,000\n",
    "w_vals = np.linspace(0, 100000, 300)\n",
    "u_vals = [u(wi) for wi in w_vals]\n",
    "\n",
    "plt.figure(figsize=(6,4))\n",
    "plt.plot(w_vals, u_vals, label=\"Utility\")\n",
    "plt.xlabel(\"Wealth (w)\")\n",
    "plt.ylabel(\"Utility u(w)\")\n",
    "plt.title(\"von Neumann–Morgenstern Utility\")\n",
    "plt.legend()\n",
    "plt.show()"
   ]
  },
  {
   "cell_type": "markdown",
   "metadata": {},
   "source": [
    "Looking at the plot of the utility function, we can see that before wealth reaches $10,000, there marginal utility of additional wealth is very high and then begins to asymptotically approach 1000 after that. This indicates that there is more to be gained from additional wealth when relatively poor than compared to rich.\n",
    "\n",
    "## Part 2: 50-50 gamble that loses $100 or wins $110, when  initial wealth is $30,000"
   ]
  },
  {
   "cell_type": "code",
   "execution_count": null,
   "metadata": {},
   "outputs": [
    {
     "name": "stdout",
     "output_type": "stream",
     "text": [
      "Certainty Equivalent: 29999.07\n",
      "Expected Utility of Gamble: 999.9999999999063\n",
      "Utility at Initial Wealth: 999.9999999999064\n",
      "Certainty Equivalent: 29999.06909090909\n",
      "Marginal Utility of Gaining $100: 8.382878080721875e-14\n",
      "Marginal Utility of Losing $110: 1.0341772767478841e-13\n",
      "MU Loss > MU Gain: True\n"
     ]
    }
   ],
   "source": [
    "import numpy as np\n",
    "from scipy.optimize import fsolve\n",
    "import pandas as pd\n",
    "\n",
    "# Define utility function\n",
    "def u(w, gamma=1/1000):\n",
    "    return (1 - np.exp(-gamma * w)) / gamma\n",
    "\n",
    "# Define first and second derivatives of utility function\n",
    "def uprime(w, gamma=1/1000):\n",
    "    return np.exp(-gamma * w)\n",
    "\n",
    "def udoubleprime(w, gamma=1/1000):\n",
    "    return gamma * np.exp(-gamma * w)\n",
    "\n",
    "# Given parameters\n",
    "initial_wealth = 30000\n",
    "loss = 100\n",
    "gain = 110\n",
    "\n",
    "# Expected utility of the gamble\n",
    "EU_gamble = 0.5 * u(initial_wealth + gain) + 0.5 * u(initial_wealth - loss)\n",
    "U_initial = u(initial_wealth)\n",
    "\n",
    "# Certainty equivalent: solve u(CE) = EU_gamble\n",
    "CE = fsolve(lambda w: u(w) - EU_gamble, initial_wealth)[0]\n",
    "\n",
    "# Compute marginal utilities\n",
    "MU_gain = uprime(initial_wealth + gain)\n",
    "MU_loss = uprime(initial_wealth - loss)\n",
    "\n",
    "# Display results\n",
    "results = {\n",
    "    \"Expected Utility of Gamble\": [EU_gamble],\n",
    "    \"Utility at Initial Wealth\": [U_initial],\n",
    "    \"Certainty Equivalent\": [CE],\n",
    "    \"Marginal Utility of Gaining $100\": [MU_gain],\n",
    "    \"Marginal Utility of Losing $110\": [MU_loss],\n",
    "    \"MU Loss > MU Gain\": [MU_loss > MU_gain]\n",
    "}\n",
    "\n",
    "print(f\"Expected Utility of Gamble: {EU_gamble}\")\n",
    "print(f\"Utility at Initial Wealth: {U_initial}\")\n",
    "print(f\"Certainty Equivalent: {CE}\")\n",
    "print(f\"Marginal Utility of Gaining $100: {MU_gain}\")\n",
    "print(f\"Marginal Utility of Losing $110: {MU_loss}\")\n",
    "print(f\"MU Loss > MU Gain: {MU_loss > MU_gain}\")"
   ]
  },
  {
   "cell_type": "markdown",
   "metadata": {},
   "source": [
    "Since the certainty equilavent of this offer is less than our initial wealth of $30,000 and the marginal utility of losing $110 is larger than the marginal utility of gaining $100, we reject this offer."
   ]
  },
  {
   "cell_type": "markdown",
   "metadata": {},
   "source": [
    "## 50-50 chance of infinite wealth for cost of $1000 "
   ]
  },
  {
   "cell_type": "code",
   "execution_count": 27,
   "metadata": {},
   "outputs": [
    {
     "name": "stdout",
     "output_type": "stream",
     "text": [
      "Certainty Equivalent: 30000.00\n",
      "Marginal Utility of gaining infinite wealth: 0.0\n",
      "Marginal Utility of losing $1000 wealth: 2.543665647376923e-13\n"
     ]
    }
   ],
   "source": [
    "# Given parameters\n",
    "initial_wealth = 30000\n",
    "loss = 1000\n",
    "gain = np.inf  # Infinite wealth\n",
    "\n",
    "# Compute expected utility of the gamble\n",
    "EU_gamble = 0.5 * u(initial_wealth + gain) + 0.5 * u(initial_wealth - loss)\n",
    "U_initial = u(initial_wealth)\n",
    "\n",
    "# Solve for the certainty equivalent\n",
    "CE = fsolve(lambda w: u(w) - EU_gamble, initial_wealth)[0]\n",
    "print(f\"Certainty Equivalent: {CE:.2f}\")\n",
    "\n",
    "# Compute marginal utilities\n",
    "MU_gain = uprime(initial_wealth + gain)  # Approaches 0 as wealth goes to infinity\n",
    "MU_loss = uprime(initial_wealth - loss)\n",
    "print(f'Marginal Utility of gaining infinite wealth: {MU_gain}')\n",
    "print(f'Marginal Utility of losing $1000 wealth: {MU_loss}')\n"
   ]
  },
  {
   "cell_type": "markdown",
   "metadata": {},
   "source": [
    "SInce the certainty equivalents are the same, we have to look at the marginal utility of gaining vs losing that money. Since the marginal utility of gaining infinite wealth is less than the marginal utility of losing $1000 dollars, we do not take the gamble."
   ]
  },
  {
   "cell_type": "markdown",
   "metadata": {},
   "source": [
    "## 50-50 chance of infinite wealth for cost of $500 "
   ]
  },
  {
   "cell_type": "code",
   "execution_count": 28,
   "metadata": {},
   "outputs": [
    {
     "name": "stdout",
     "output_type": "stream",
     "text": [
      "Certainty Equivalent: 30192.97\n",
      "Marginal Utility of gaining infinite wealth: 0.0\n",
      "Marginal Utility of losing $1000 wealth: 1.5428112031918877e-13\n"
     ]
    }
   ],
   "source": [
    "# Given parameters\n",
    "initial_wealth = 30000\n",
    "loss = 500\n",
    "gain = np.inf  # Infinite wealth\n",
    "\n",
    "# Compute expected utility of the gamble\n",
    "EU_gamble = 0.5 * u(initial_wealth + gain) + 0.5 * u(initial_wealth - loss)\n",
    "U_initial = u(initial_wealth)\n",
    "\n",
    "# Solve for the certainty equivalent\n",
    "CE = fsolve(lambda w: u(w) - EU_gamble, initial_wealth)[0]\n",
    "\n",
    "print(f\"Certainty Equivalent: {CE:.2f}\")\n",
    "\n",
    "# Compute marginal utilities\n",
    "MU_gain = uprime(initial_wealth + gain)  # Approaches 0 as wealth goes to infinity\n",
    "MU_loss = uprime(initial_wealth - loss)\n",
    "print(f'Marginal Utility of gaining infinite wealth: {MU_gain}')\n",
    "print(f'Marginal Utility of losing $1000 wealth: {MU_loss}')"
   ]
  },
  {
   "cell_type": "markdown",
   "metadata": {},
   "source": [
    "Since the certainty equivalent of this gamble is larger than our initial starting wealth we take the gamble for the cost of $500."
   ]
  },
  {
   "cell_type": "markdown",
   "metadata": {},
   "source": []
  }
 ],
 "metadata": {
  "kernelspec": {
   "display_name": "Python 3",
   "language": "python",
   "name": "python3"
  },
  "language_info": {
   "codemirror_mode": {
    "name": "ipython",
    "version": 3
   },
   "file_extension": ".py",
   "mimetype": "text/x-python",
   "name": "python",
   "nbconvert_exporter": "python",
   "pygments_lexer": "ipython3",
   "version": "3.12.3"
  }
 },
 "nbformat": 4,
 "nbformat_minor": 2
}
